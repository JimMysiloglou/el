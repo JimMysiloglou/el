{
 "cells": [
  {
   "cell_type": "raw",
   "metadata": {},
   "source": [
    "---\n",
    "title: \"Δασικές πυρκαγιές στην Ελλάδα\"\n",
    "description: \"Προετοιμασία των δεδομένων του πυροσβεστικού σώματος για απεικόνιση μέσω της επεξεργασίας αρχείων excel.\"\n",
    "lang: el\n",
    "date: 2022-09-28\n",
    "code-fold: false\n",
    "---"
   ]
  },
  {
   "cell_type": "markdown",
   "id": "7b54637a-607f-4ba4-9a3b-508ec5151cdf",
   "metadata": {},
   "source": [
    "## Σύντομη παρουσίαση και προετοιμασία των δεδομένων\n",
    "\n",
    "*Με την πάροδο των ετών περισσότερες πληροφορίες προστίθενται στα αρχεία.*\n",
    "\n",
    "**2000-2008**\n",
    "\n",
    "* Υπηρεσία (`fire_service`)\n",
    "* Δασαρχείο (`forest_department`)\n",
    "* Περιοχή-Τοποθεσία (`location`)\n",
    "* Νομός (`district`):\n",
    "* Ημερ/νία Έναρξης (`start_date`)\n",
    "* Ώρα Έναρξης (`start_time`)\n",
    "* Ημερ/νία Κατάσβεσης (`end_date`)\n",
    "* Ώρα Κατάσβεσης (`end_time`)\n",
    "\n",
    "*Παρακάτω κατηγοριοποιούνται οι εκτάσεις που κάηκαν σε στρέμματα.*\n",
    "\n",
    "* Δάση (`forest`)\n",
    "* Δασική Έκταση (`forest_area`): Έπιπλέον δασική έκταση που καταστράφηκε.\n",
    "* Άλση (`grove`)\n",
    "* Χορτ/κές Εκτάσεις (`grassland`)\n",
    "* Καλάμια - Βάλτοι (`marsh`)\n",
    "* Γεωργικές Εκτάσεις (`crop_fields`)\n",
    "* Υπολλείματα Καλλιεργιών (`crop_residues`)\n",
    "* Σκουπιδότοποι (`dumps`)\n",
    "\n",
    "**2009-2010**\n",
    "\n",
    "* Δήμος (`borough`)\n",
    "\n",
    "**2011**\n",
    "\n",
    "*Το 2011 προστέθηκαν πληροφορίες για το ανθρώπινο δυναμικό και τα οχήματα που συμμετείχαν στην πυρόσβεση*\n",
    "\n",
    "* ΠΥΡΟΣ, ΣΩΜΑ (`firemen`)\n",
    "* ΠΕΖΟΠΟΡΑ ΤΜΗΜΑΤΑ (`patrol`)\n",
    "* ΕΘΕΛΟΝΤΕΣ (`volunteers`)\n",
    "* ΣΤΡΑΤΟΣ (`military`)\n",
    "* ΑΛΛΕΣ ΔΥΝΑΜΕΙΣ (`other_groups`)\n",
    "* ΠΥΡΟΣ. ΟΧΗΜ. (`fire_trucks`): Πυροσβεστικά οχήματα.\n",
    "* ΟΧΗΜ. ΟΤΑ (`local_authorities`): Οχήματα της τοπικής αυτοδιοίκησης.\n",
    "* ΒΥΤΙΟΦΟΡΑ (`private_trucks`)\n",
    "* ΜΗΧΑΝΗΜΑΤΑ (`other_trucks`)\n",
    "* ΕΛΙΚΟΠΤΕΡΑ (`helicopters`)\n",
    "* Α/Φ CL415 (`canadair_new`): Canadair CL-415, το νεότερο μοντέλο του σκάφους πυρόσβεσης.\n",
    "* Α/Φ CL215 (`canadair_old`): Canadair CL-215, το παλαιότερο μοντέλο του σκάφους πυρόσβεσης.\n",
    "* Α/Φ PZL (`pzl`): PZL-Mielec, μονοκινητήρια αγροτικά αεροσκάφη.\n",
    "* Α/Φ GRU. (`gru`): Άλλου είδους αεροσκάφη\n",
    "\n",
    "**2012-2019**\n",
    "\n",
    "* Διεύθυνση (address)\n",
    "\n",
    "**2020-2021**\n",
    "\n",
    "* Α/Α ΕΓΓΡΑΦΗΣ - Α/Α ENGAGE\n",
    "* X-ENGAGE / Y-ENGAGE (Γεωγρ. μήκος/πλάτος)"
   ]
  },
  {
   "cell_type": "code",
   "execution_count": 1,
   "id": "4ff11672-76ff-4c64-b908-01e48932c4e8",
   "metadata": {},
   "outputs": [],
   "source": [
    "# Εισάγουμε τις βιβλιοθήκες numpy και pandas\n",
    "\n",
    "import numpy as np\n",
    "import pandas as pd"
   ]
  },
  {
   "cell_type": "markdown",
   "id": "c5d83cb3",
   "metadata": {},
   "source": [
    "## Προετοιμασία του αρχείου ετών 2000-2012\n",
    "\n",
    "Το πρώτο φύλλο excel περιέχει πληροφορίες για τα έτη 2000 - 2012, κάθε φύλλο και ένα έτος."
   ]
  },
  {
   "cell_type": "code",
   "execution_count": 2,
   "id": "88ed7f2a-2a44-4ea7-bf19-135c4c7e6057",
   "metadata": {},
   "outputs": [
    {
     "name": "stdout",
     "output_type": "stream",
     "text": [
      "['2000', '2001', '2002', '2003', '2004', '2005', '2006', '2007', '2008', '2009', '2010', '2011', '2012']\n"
     ]
    }
   ],
   "source": [
    "data = pd.ExcelFile('datasets/Dasikes_Pyrkagies_2000-2012.xls')\n",
    "print(data.sheet_names)"
   ]
  },
  {
   "cell_type": "markdown",
   "id": "aa81f4ab",
   "metadata": {},
   "source": [
    "Παρακάτω είναι ένα δείγμα 5 τυχαίων καταγραφών."
   ]
  },
  {
   "cell_type": "code",
   "execution_count": 3,
   "id": "bd1345bb-7097-4349-a3c1-546472c2f091",
   "metadata": {},
   "outputs": [
    {
     "data": {
      "text/html": [
       "<div>\n",
       "<style scoped>\n",
       "    .dataframe tbody tr th:only-of-type {\n",
       "        vertical-align: middle;\n",
       "    }\n",
       "\n",
       "    .dataframe tbody tr th {\n",
       "        vertical-align: top;\n",
       "    }\n",
       "\n",
       "    .dataframe thead th {\n",
       "        text-align: right;\n",
       "    }\n",
       "</style>\n",
       "<table border=\"1\" class=\"dataframe\">\n",
       "  <thead>\n",
       "    <tr style=\"text-align: right;\">\n",
       "      <th></th>\n",
       "      <th>Υπηρεσία</th>\n",
       "      <th>Δασαρχείο</th>\n",
       "      <th>Περιοχή - Τοποθεσία</th>\n",
       "      <th>Νομός</th>\n",
       "      <th>Ημερ/νία Έναρξης</th>\n",
       "      <th>Ώρα Έναρξης</th>\n",
       "      <th>Ημερ/νία Κατασβεσης</th>\n",
       "      <th>Ώρα Κατάσβεσης</th>\n",
       "      <th>Δάση</th>\n",
       "      <th>Δασική Έκταση</th>\n",
       "      <th>Άλση</th>\n",
       "      <th>Χορτ/κές Εκτάσεις</th>\n",
       "      <th>Καλάμια - Βάλτοι</th>\n",
       "      <th>Γεωργικές Εκτάσεις</th>\n",
       "      <th>Υπολλείματα Καλλιεργειών</th>\n",
       "      <th>Σκουπιδότοποι</th>\n",
       "    </tr>\n",
       "  </thead>\n",
       "  <tbody>\n",
       "    <tr>\n",
       "      <th>10506</th>\n",
       "      <td>Π.Υ  ΘΗΒΑΣ</td>\n",
       "      <td>NaN</td>\n",
       "      <td>89 ΧΙΛ.ΑΘΗΝΩΝ-ΛΑΜΙΑΣ</td>\n",
       "      <td>ΒΟΙΩΤΙΑΣ</td>\n",
       "      <td>2000-05-22</td>\n",
       "      <td>15:34:00</td>\n",
       "      <td>2000-05-22 00:00:00</td>\n",
       "      <td>16:30:00</td>\n",
       "      <td>0.0</td>\n",
       "      <td>0.0</td>\n",
       "      <td>0.0</td>\n",
       "      <td>1.0</td>\n",
       "      <td>0.0</td>\n",
       "      <td>0.0</td>\n",
       "      <td>0.0</td>\n",
       "      <td>0.0</td>\n",
       "    </tr>\n",
       "    <tr>\n",
       "      <th>4737</th>\n",
       "      <td>Π.Υ. ΑΡΤΑΣ</td>\n",
       "      <td>NaN</td>\n",
       "      <td>ΑΡΤΑ ΤΕΤΡΑΦΥΛΛΙΑΣ</td>\n",
       "      <td>ΑΡΤΑΣ</td>\n",
       "      <td>2000-12-10</td>\n",
       "      <td>13:39:00</td>\n",
       "      <td>2000-12-10 00:00:00</td>\n",
       "      <td>15:46:00</td>\n",
       "      <td>0.0</td>\n",
       "      <td>0.1</td>\n",
       "      <td>0.0</td>\n",
       "      <td>0.0</td>\n",
       "      <td>0.0</td>\n",
       "      <td>0.0</td>\n",
       "      <td>0.0</td>\n",
       "      <td>0.0</td>\n",
       "    </tr>\n",
       "    <tr>\n",
       "      <th>10611</th>\n",
       "      <td>Π.Υ. ΧΑΛΚΙΔΑΣ</td>\n",
       "      <td>ΧΑΛΚΙΔΑΣ</td>\n",
       "      <td>ΔΗΜ.ΜΕΣΣΑΠΙΩΝ ΠΕΡ.ΠΑΛΙΟΚΗΠΑΡΙΣΩ</td>\n",
       "      <td>ΕΥΒΟΙΑΣ</td>\n",
       "      <td>2000-06-20</td>\n",
       "      <td>18:00:00</td>\n",
       "      <td>2000-06-21 00:00:00</td>\n",
       "      <td>00:07:00</td>\n",
       "      <td>20.0</td>\n",
       "      <td>0.0</td>\n",
       "      <td>0.0</td>\n",
       "      <td>0.0</td>\n",
       "      <td>0.0</td>\n",
       "      <td>0.0</td>\n",
       "      <td>0.0</td>\n",
       "      <td>0.0</td>\n",
       "    </tr>\n",
       "    <tr>\n",
       "      <th>7011</th>\n",
       "      <td>Π.Υ. ΑΙΓΙΟΥ</td>\n",
       "      <td>ΑΙΓΙΟΥ</td>\n",
       "      <td>ΒΟΥΛΩΜΕΝΟ</td>\n",
       "      <td>ΑΧΑΙΑΣ</td>\n",
       "      <td>2000-07-05</td>\n",
       "      <td>13:15:00</td>\n",
       "      <td>2000-07-06 00:00:00</td>\n",
       "      <td>10:00:00</td>\n",
       "      <td>0.0</td>\n",
       "      <td>0.0</td>\n",
       "      <td>0.0</td>\n",
       "      <td>0.0</td>\n",
       "      <td>0.0</td>\n",
       "      <td>0.0</td>\n",
       "      <td>0.0</td>\n",
       "      <td>2.0</td>\n",
       "    </tr>\n",
       "    <tr>\n",
       "      <th>6295</th>\n",
       "      <td>Π.Υ. ΚΑΡΔΙΤΣΑΣ</td>\n",
       "      <td>ΚΑΡΔΙΤΣΑΣ</td>\n",
       "      <td>ΜΑΓΟΥΛΑ</td>\n",
       "      <td>ΚΑΡΔΙΤΣΑΣ</td>\n",
       "      <td>2000-09-02</td>\n",
       "      <td>11:05:00</td>\n",
       "      <td>2000-09-02 00:00:00</td>\n",
       "      <td>12:50:00</td>\n",
       "      <td>0.0</td>\n",
       "      <td>0.0</td>\n",
       "      <td>0.0</td>\n",
       "      <td>1.0</td>\n",
       "      <td>0.0</td>\n",
       "      <td>0.0</td>\n",
       "      <td>0.0</td>\n",
       "      <td>0.0</td>\n",
       "    </tr>\n",
       "  </tbody>\n",
       "</table>\n",
       "</div>"
      ],
      "text/plain": [
       "             Υπηρεσία  Δασαρχείο              Περιοχή - Τοποθεσία      Νομός  \\\n",
       "10506      Π.Υ  ΘΗΒΑΣ        NaN             89 ΧΙΛ.ΑΘΗΝΩΝ-ΛΑΜΙΑΣ   ΒΟΙΩΤΙΑΣ   \n",
       "4737       Π.Υ. ΑΡΤΑΣ        NaN                ΑΡΤΑ ΤΕΤΡΑΦΥΛΛΙΑΣ      ΑΡΤΑΣ   \n",
       "10611   Π.Υ. ΧΑΛΚΙΔΑΣ   ΧΑΛΚΙΔΑΣ  ΔΗΜ.ΜΕΣΣΑΠΙΩΝ ΠΕΡ.ΠΑΛΙΟΚΗΠΑΡΙΣΩ    ΕΥΒΟΙΑΣ   \n",
       "7011      Π.Υ. ΑΙΓΙΟΥ     ΑΙΓΙΟΥ                        ΒΟΥΛΩΜΕΝΟ     ΑΧΑΙΑΣ   \n",
       "6295   Π.Υ. ΚΑΡΔΙΤΣΑΣ  ΚΑΡΔΙΤΣΑΣ                          ΜΑΓΟΥΛΑ  ΚΑΡΔΙΤΣΑΣ   \n",
       "\n",
       "      Ημερ/νία Έναρξης Ώρα Έναρξης  Ημερ/νία Κατασβεσης Ώρα Κατάσβεσης  Δάση  \\\n",
       "10506       2000-05-22    15:34:00  2000-05-22 00:00:00       16:30:00   0.0   \n",
       "4737        2000-12-10    13:39:00  2000-12-10 00:00:00       15:46:00   0.0   \n",
       "10611       2000-06-20    18:00:00  2000-06-21 00:00:00       00:07:00  20.0   \n",
       "7011        2000-07-05    13:15:00  2000-07-06 00:00:00       10:00:00   0.0   \n",
       "6295        2000-09-02    11:05:00  2000-09-02 00:00:00       12:50:00   0.0   \n",
       "\n",
       "       Δασική Έκταση  Άλση  Χορτ/κές Εκτάσεις  Καλάμια - Βάλτοι  \\\n",
       "10506            0.0   0.0                1.0               0.0   \n",
       "4737             0.1   0.0                0.0               0.0   \n",
       "10611            0.0   0.0                0.0               0.0   \n",
       "7011             0.0   0.0                0.0               0.0   \n",
       "6295             0.0   0.0                1.0               0.0   \n",
       "\n",
       "       Γεωργικές Εκτάσεις  Υπολλείματα Καλλιεργειών  Σκουπιδότοποι  \n",
       "10506                 0.0                       0.0            0.0  \n",
       "4737                  0.0                       0.0            0.0  \n",
       "10611                 0.0                       0.0            0.0  \n",
       "7011                  0.0                       0.0            2.0  \n",
       "6295                  0.0                       0.0            0.0  "
      ]
     },
     "execution_count": 3,
     "metadata": {},
     "output_type": "execute_result"
    }
   ],
   "source": [
    "data.parse('2000', skiprows=1).sample(5)"
   ]
  },
  {
   "cell_type": "markdown",
   "id": "917ea153",
   "metadata": {},
   "source": [
    "Θα χρησιμοποιήσω τα παρακάτω ονόματα στηλών για συντομία."
   ]
  },
  {
   "cell_type": "code",
   "execution_count": 4,
   "id": "280647b2-85d7-4bf5-ac94-fd2a263efbb9",
   "metadata": {
    "tags": []
   },
   "outputs": [],
   "source": [
    "column_names = ['fire_service', 'forest_department', 'location', 'district',\n",
    "                'start_date', 'start_time', 'end_date', 'end_time',\n",
    "                'forest', 'forest_area', 'grove', 'grassland', 'marsh', 'crop_fields', 'crop_residues', 'dumps']"
   ]
  },
  {
   "cell_type": "markdown",
   "id": "2a7fa4f2",
   "metadata": {},
   "source": [
    "### Προετοιμασία των ετών 2000-2008\n",
    "\n",
    "Tα φύλλα από το 2000 έως το 2008 περιέχουν τις παραπάνω στήλες"
   ]
  },
  {
   "cell_type": "code",
   "execution_count": 5,
   "id": "e18eb50e-dcf2-4d10-b490-1e2e9d9cd81c",
   "metadata": {},
   "outputs": [
    {
     "name": "stdout",
     "output_type": "stream",
     "text": [
      "['2000', '2001', '2002', '2003', '2004', '2005', '2006', '2007', '2008']\n"
     ]
    }
   ],
   "source": [
    "sheets = data.sheet_names[:9]\n",
    "print(sheets)"
   ]
  },
  {
   "cell_type": "markdown",
   "id": "34124cd2",
   "metadata": {},
   "source": [
    "Φορτώνουμε αυτά τα πρώτα 9 φύλλα σε ένα λεξικό με όνομα `df_dict`"
   ]
  },
  {
   "cell_type": "code",
   "execution_count": 6,
   "id": "1269ec36-657c-498b-9317-5114c21844cf",
   "metadata": {},
   "outputs": [],
   "source": [
    "df_dict = {}\n",
    "for sheet in sheets:\n",
    "    df = data.parse(sheet, skiprows=1, names=column_names)\n",
    "    df_dict[sheet] = df"
   ]
  },
  {
   "cell_type": "code",
   "execution_count": 7,
   "id": "f478df7d-d26c-4ccb-89df-759b98bfabf2",
   "metadata": {},
   "outputs": [
    {
     "name": "stdout",
     "output_type": "stream",
     "text": [
      "<class 'pandas.core.frame.DataFrame'>\n",
      "RangeIndex: 12980 entries, 0 to 12979\n",
      "Data columns (total 16 columns):\n",
      " #   Column             Non-Null Count  Dtype         \n",
      "---  ------             --------------  -----         \n",
      " 0   fire_service       12980 non-null  object        \n",
      " 1   forest_department  10037 non-null  object        \n",
      " 2   location           12979 non-null  object        \n",
      " 3   district           12980 non-null  object        \n",
      " 4   start_date         12980 non-null  datetime64[ns]\n",
      " 5   start_time         12980 non-null  object        \n",
      " 6   end_date           12949 non-null  object        \n",
      " 7   end_time           12948 non-null  object        \n",
      " 8   forest             12980 non-null  float64       \n",
      " 9   forest_area        12980 non-null  float64       \n",
      " 10  grove              12980 non-null  float64       \n",
      " 11  grassland          12980 non-null  float64       \n",
      " 12  marsh              12980 non-null  float64       \n",
      " 13  crop_fields        12980 non-null  float64       \n",
      " 14  crop_residues      12980 non-null  float64       \n",
      " 15  dumps              12980 non-null  float64       \n",
      "dtypes: datetime64[ns](1), float64(8), object(7)\n",
      "memory usage: 1.6+ MB\n"
     ]
    }
   ],
   "source": [
    "df = df_dict['2000']\n",
    "df.info()"
   ]
  },
  {
   "cell_type": "markdown",
   "id": "81d6de2c-5bd7-4b94-a59a-b4ddd59064e4",
   "metadata": {},
   "source": [
    "Με εξαίρεση κάποιες τιμές που λείπουν στις στήλες `forest_department` και `location` τα υπόλοιπα δεδομένα εμφανίζονται να είναι εντάξει. Τώρα θα επικεντρωθούμε στις στήλες ημερομηνιών και ωρών (`start_date`, `start_time`, `end_date`, `end_time`).\n",
    "\n",
    "### Διόρθωση των ημερομηνιών"
   ]
  },
  {
   "cell_type": "code",
   "execution_count": 8,
   "id": "d95e3617-6d89-4a8a-9b9b-940ad6a60c61",
   "metadata": {},
   "outputs": [
    {
     "name": "stdout",
     "output_type": "stream",
     "text": [
      "Year:  2000\n",
      "4088     2/2/0200\n",
      "7599    10/7/0200\n",
      "Name: end_date, dtype: object\n",
      "\n",
      "Year:  2001\n",
      "5068    28/9/0010\n",
      "5259    10/9/0001\n",
      "Name: end_date, dtype: object\n",
      "\n",
      "Year:  2002\n",
      "7230    19/6/0023\n",
      "5856    19/2/0002\n",
      "Name: end_date, dtype: object\n",
      "\n",
      "Year:  2004\n",
      "7369    13/9/0043\n",
      "9407     4/9/0041\n",
      "Name: end_date, dtype: object\n",
      "\n",
      "Year:  2006\n",
      "2481    31/7/0200\n",
      "4788    23/6/0200\n",
      "Name: end_date, dtype: object\n",
      "\n",
      "Year:  2007\n",
      "1245    28/9/0207\n",
      "2108    24/8/0207\n",
      "Name: end_date, dtype: object\n",
      "\n",
      "Year:  2008\n",
      "3462     11/8/0200\n",
      "1407    22/10/0208\n",
      "Name: end_date, dtype: object\n",
      "\n"
     ]
    }
   ],
   "source": [
    "#| code-summary: Λανθασμένες ημερομηνίες\n",
    "#| column: margin\n",
    "#| code-fold: true\n",
    "\n",
    "for year, df in df_dict.items():\n",
    "    if not df[df.end_date.apply(lambda x: isinstance(x, str))].end_date.empty:\n",
    "        print(\"Year: \", year)\n",
    "        print(df[df.end_date.apply(lambda x: isinstance(x, str))].end_date.sample(2))\n",
    "        print()"
   ]
  },
  {
   "cell_type": "markdown",
   "id": "4df21ef9-cefe-47c2-a619-665198a550ac",
   "metadata": {},
   "source": [
    "Φαίνεται ότι υπάρχουν αρκετές ημερομηνίες που έχουν πληκτρολογηθεί λανθασμένα. Θα προσπαθήσουμε με μία εφαρμογή να διορθώσουμε τις λανθασμένες τιμές.\n",
    "\n",
    "Η εφαρμογή πρώτα ελέγχει ποιες τιμές δεν έχουν μετατραπεί σε datetime objects (strings), και επιστρέφει Timestamp με την σωστή χρονολογία χρησιμοποιώντας τον ίδιο μήνα και ημέρα. Από την διόρθωση θα εξαιρεθούν ημερομηνίες που αφορούν τον Γενάρη του επόμενου έτους μιας και ορισμένες πυρκαγιές ξεκίνησαν Δεκέμβριο και τελείωσαν τον Ιανουάριο του επόμενου έτους. "
   ]
  },
  {
   "cell_type": "code",
   "execution_count": 9,
   "id": "ebb5a2d6-f0f1-4cee-89d6-45a2f81cc59d",
   "metadata": {},
   "outputs": [],
   "source": [
    "# Εφαρμογή διόρθωσης του έτους\n",
    "\n",
    "from datetime import datetime\n",
    "\n",
    "def fix_year(x, year):\n",
    "    \"\"\"A function to replace mistyped year\n",
    "    on the end_date column\n",
    "    \n",
    "    Args:\n",
    "        x (str or datetime): value of each row\n",
    "        year (int): the correct year to replace\n",
    "        \n",
    "    Returns:\n",
    "        pandas.Timestamp or original value x\n",
    "    \"\"\"\n",
    "    \n",
    "    # records that could not parsed as datetime objects\n",
    "    if isinstance(x, str): \n",
    "        day, month, _ = x.split('/')\n",
    "        return pd.Timestamp(year=year, month=int(month), day=int(day))\n",
    "        \n",
    "    # check that already parsed dates have the correct year\n",
    "    elif isinstance(x, datetime):\n",
    "        if x.year == year or pd.isnull(x): # exclude records with the correct year or null value\n",
    "            return x\n",
    "        elif x.year == (year + 1) and x.month == 1: # exclude records on January of the next year\n",
    "            return x \n",
    "        else:\n",
    "            return pd.Timestamp(year=year, month=int(x.month), day=int(x.day))"
   ]
  },
  {
   "cell_type": "markdown",
   "id": "877104ee",
   "metadata": {},
   "source": [
    "'Επειτα χρησιμοποιούμε την εφαρμογή και ενώνουμε ημερ/νία και ώρα σε δύο στήλες που θα ονομάζονται `start` και `end`."
   ]
  },
  {
   "cell_type": "code",
   "execution_count": 10,
   "id": "1024b1e5-c644-4a87-8797-e690e7504893",
   "metadata": {},
   "outputs": [],
   "source": [
    "# Χρησιμοποιούμε την εφαρμογή\n",
    "for year, df in df_dict.items():\n",
    "    df[\"end_date\"] = df.end_date.apply(fix_year, args=[int(year)])"
   ]
  },
  {
   "cell_type": "code",
   "execution_count": 11,
   "id": "7a3297b3-a785-4ef8-90fb-d1d38cb8f3b0",
   "metadata": {},
   "outputs": [],
   "source": [
    "# Ενώνουμε ημερομηνία και ώρα\n",
    "for df in df_dict.values():\n",
    "    df['start'] = pd.to_datetime(df.start_date.dt.strftime(\"%Y-%m-%d\") + ' ' + df.start_time.map(str))\n",
    "    df['end'] = pd.to_datetime(df.end_date.dt.strftime(\"%Y-%m-%d\") + ' ' + df.end_time.map(str), errors='coerce')"
   ]
  },
  {
   "cell_type": "markdown",
   "id": "e346b35b",
   "metadata": {},
   "source": [
    "### Προετοιμασία των ετών 2009-2010\n",
    "\n",
    "Από κάτω παρατηρούμε την προσθήκη της στήλης `Δήμος` στα δεδομένα σε σχέση με τα προηγούμενα έτη."
   ]
  },
  {
   "cell_type": "code",
   "execution_count": 12,
   "id": "04b30dc1-7feb-42ae-b7c8-4b83ca907dfc",
   "metadata": {},
   "outputs": [
    {
     "name": "stdout",
     "output_type": "stream",
     "text": [
      "Index(['Υπηρεσία', 'Δασαρχείο', 'Περιοχή - Τοποθεσία', 'Δήμος', 'Νομός',\n",
      "       'Ημερ/νία Έναρξης', 'Ώρα Έναρξης', 'Ημερ/νία Κατασβεσης',\n",
      "       'Ώρα Κατάσβεσης', 'Δάση', 'Δασική Έκταση', 'Άλση', 'Χορτ/κές Εκτάσεις',\n",
      "       'Καλάμια - Βάλτοι', 'Γεωργικές Εκτάσεις', 'Υπολλείματα Καλλιεργειών',\n",
      "       'Σκουπιδότοποι'],\n",
      "      dtype='object')\n",
      "Index(['Υπηρεσία', 'Δασαρχείο', 'Περιοχή - Τοποθεσία', 'Δήμος', 'Νομός',\n",
      "       'Ημερ/νία Έναρξης', 'Ώρα Έναρξης', 'Ημερ/νία Κατασβεσης',\n",
      "       'Ώρα Κατάσβεσης', 'Δάση', 'Δασική Έκταση', 'Άλση', 'Χορτ/κές Εκτάσεις',\n",
      "       'Καλάμια - Βάλτοι', 'Γεωργικές Εκτάσεις', 'Υπολλείματα Καλλιεργειών',\n",
      "       'Σκουπιδότοποι'],\n",
      "      dtype='object')\n"
     ]
    }
   ],
   "source": [
    "print(data.parse('2009', skiprows=1).columns)\n",
    "print(data.parse('2010', skiprows=1).columns)"
   ]
  },
  {
   "cell_type": "markdown",
   "id": "554399d2",
   "metadata": {},
   "source": [
    "Προσθέτουμε το όνομα `borough` στη λίστα με τα ονόματα στηλών και φορτώνουμε τα έτη 2009-2010 στο λεξικό μας."
   ]
  },
  {
   "cell_type": "code",
   "execution_count": 13,
   "id": "d526c290-3e40-497b-9ec8-bb34299e73aa",
   "metadata": {},
   "outputs": [],
   "source": [
    "column_names = ['fire_service', 'forest_department', 'location', 'borough', 'district',\n",
    "                'start_date', 'start_time', 'end_date', 'end_time',\n",
    "                'forest', 'forest_area', 'grove', 'grassland', 'marsh', 'crop_fields', 'crop_residues', 'dumps']"
   ]
  },
  {
   "cell_type": "code",
   "execution_count": 14,
   "id": "a90378c5-f862-45b4-af51-9d99c0bbbc21",
   "metadata": {},
   "outputs": [],
   "source": [
    "sheets = ['2009', '2010']\n",
    "for sheet in sheets:\n",
    "    df = data.parse(sheet, skiprows=1, names=column_names)\n",
    "    df_dict[sheet] = df"
   ]
  },
  {
   "cell_type": "markdown",
   "id": "7398e597",
   "metadata": {},
   "source": [
    "Ελέγχουμε ξανά για λάθος συπληρωμένες ημερομηνίες, τις διορθώνουμε όπως και προηγουμένως και ενώνουμε για την δημιουργία των στηλών `start` και `end`. "
   ]
  },
  {
   "cell_type": "code",
   "execution_count": 15,
   "id": "9efcd1b9-c035-4d4b-9900-0014db8458d6",
   "metadata": {},
   "outputs": [
    {
     "name": "stdout",
     "output_type": "stream",
     "text": [
      "Year:  2009\n",
      "7665     4/9/0209\n",
      "5410    17/6/0209\n",
      "Name: end_date, dtype: object\n",
      "\n"
     ]
    }
   ],
   "source": [
    "#| code-summary: Λανθασμένες ημερ/νίες\n",
    "#| column: margin\n",
    "#| code-fold: true\n",
    "\n",
    "for year, df in df_dict.items():\n",
    "    if not df[df.end_date.apply(lambda x: isinstance(x, str))].end_date.empty:\n",
    "        print(\"Year: \", year)\n",
    "        print(df[df.end_date.apply(lambda x: isinstance(x, str))].end_date.sample(2))\n",
    "        print()"
   ]
  },
  {
   "cell_type": "code",
   "execution_count": 16,
   "id": "99857fbf-e041-4138-b813-a0eb65cd84b9",
   "metadata": {},
   "outputs": [],
   "source": [
    "# Διόρθωση ημερ/νιών\n",
    "\n",
    "for year, df in df_dict.items():\n",
    "    if year in sheets:\n",
    "        df[\"end_date\"] = df.end_date.apply(fix_year, args=[int(year)])"
   ]
  },
  {
   "cell_type": "code",
   "execution_count": 17,
   "id": "1fcc5c4a-a22c-45da-b2da-c66175c3b11f",
   "metadata": {},
   "outputs": [],
   "source": [
    "# Ενώνουμε ημερομηνία και ώρα\n",
    "\n",
    "for year, df in df_dict.items():\n",
    "    if year in sheets:\n",
    "        df['start'] = pd.to_datetime(df.start_date.dt.strftime(\"%Y-%m-%d\") + ' ' + df.start_time.map(str))\n",
    "        df['end'] = pd.to_datetime(df.end_date.dt.strftime(\"%Y-%m-%d\") + ' ' + df.end_time.map(str), errors='coerce')"
   ]
  },
  {
   "cell_type": "markdown",
   "id": "2182d58a",
   "metadata": {},
   "source": [
    "### Το έτος 2011\n",
    "\n",
    "Το 2011 προστίθενται πληροφορίες για το ανθρώπινο δυναμικό και τα οχήματα που συμμετείχαν στην πυρόσβεση."
   ]
  },
  {
   "cell_type": "code",
   "execution_count": 18,
   "id": "eacbe05f-1a53-43ca-92a6-ec32a1d1d712",
   "metadata": {},
   "outputs": [
    {
     "data": {
      "text/plain": [
       "Index(['Υπηρεσία', 'Νομός', 'Ημερ/νία Έναρξης', 'Ώρα Έναρξης',\n",
       "       'Ημερ/νία Κατασβεσης', 'Ώρα Κατάσβεσης', 'Δασαρχείο', 'Δήμος',\n",
       "       'Περιοχή - Τοποθεσία', 'Δάση', 'Δασική Έκταση', 'Άλση',\n",
       "       'Χορτ/κές Εκτάσεις', 'Καλάμια - Βάλτοι', 'Γεωργικές Εκτάσεις',\n",
       "       'Υπολλείματα Καλλιεργειών', 'Σκουπιδότοποι', 'ΠΥΡΟΣ. ΣΩΜΑ',\n",
       "       'ΠΕΖΟΠΟΡΑ ΤΜΗΜΑΤΑ', 'ΕΘΕΛΟ-ΝΤΕΣ', 'ΣΤΡΑΤΟΣ', 'ΑΛΛΕΣ ΔΥΝΑΜΕΙΣ',\n",
       "       'ΠΥΡΟΣ. ΟΧΗΜ.', 'ΟΧΗΜ. ΟΤΑ', 'ΒΥΤΙΟ- ΦΟΡΑ', 'ΜΗΧΑΝΗΜΑΤΑ',\n",
       "       'ΕΛΙΚΟ- ΠΤΕΡΑ', 'Α/Φ CL415', 'Α/Φ CL215', 'Α/Φ PZL', 'Α/Φ GRU.'],\n",
       "      dtype='object')"
      ]
     },
     "execution_count": 18,
     "metadata": {},
     "output_type": "execute_result"
    }
   ],
   "source": [
    "data.parse('2011', skiprows=1).columns"
   ]
  },
  {
   "cell_type": "code",
   "execution_count": 19,
   "id": "bc9d1dc8-5a07-4a04-8c85-f939b7a4f3b5",
   "metadata": {},
   "outputs": [],
   "source": [
    "# Στήλες που θα χρησιμοποιηθούν\n",
    "\n",
    "column_names = ['fire_service', 'district', 'start_date', 'start_time', 'end_date', 'end_time',\n",
    "                'forest_department', 'borough', 'location',\n",
    "                'forest', 'forest_area', 'grove', 'grassland', 'marsh', 'crop_fields', 'crop_residues', 'dumps',\n",
    "                'firemen', 'patrol', 'volunteers', 'military', 'other_groups', 'fire_trucks', 'local_authorities',\n",
    "                'private_trucks', 'other_trucks', 'helicopters', 'canadair_new', 'canadair_old', 'pzl',\n",
    "                'gru']"
   ]
  },
  {
   "cell_type": "code",
   "execution_count": 20,
   "id": "7bf8208a-8afc-4f1b-a67f-fbbe115f172b",
   "metadata": {},
   "outputs": [],
   "source": [
    "# Προσθήκη του 2011\n",
    "\n",
    "sheet = '2011'\n",
    "df = data.parse(sheet, skiprows=1, names=column_names)\n",
    "df_dict[sheet] = df\n",
    "df[\"end_date\"] = df.end_date.apply(fix_year, args=[int(sheet)])\n",
    "df['start'] = pd.to_datetime(df.start_date.dt.strftime(\"%Y-%m-%d\") + ' ' + df.start_time.map(str))\n",
    "df['end'] = pd.to_datetime(df.end_date.dt.strftime(\"%Y-%m-%d\") + ' ' + df.end_time.map(str), errors='coerce')"
   ]
  },
  {
   "cell_type": "markdown",
   "metadata": {},
   "source": [
    "### Το έτος 2012"
   ]
  },
  {
   "cell_type": "code",
   "execution_count": 21,
   "id": "a986fb2e-2807-42fd-9e52-55fb4e649d76",
   "metadata": {},
   "outputs": [
    {
     "data": {
      "text/plain": [
       "Index(['Υπηρεσία', 'Νομός', 'Ημερ/νία Έναρξης', 'Ώρα Έναρξης',\n",
       "       'Ημερ/νία Κατασβεσης', 'Ώρα Κατάσβεσης', 'Δασαρχείο', 'Δήμος',\n",
       "       'Περιοχή', 'Διεύθυνση', 'Δάση', 'Δασική Έκταση', 'Άλση',\n",
       "       'Χορτ/κές Εκτάσεις', 'Καλάμια - Βάλτοι', 'Γεωργικές Εκτάσεις',\n",
       "       'Υπολλείματα Καλλιεργειών', 'Σκουπι-δότοποι', 'ΠΥΡΟΣ. ΣΩΜΑ',\n",
       "       'ΠΕΖΟΠΟΡΑ ΤΜΗΜΑΤΑ', 'ΕΘΕΛΟ-ΝΤΕΣ', 'ΣΤΡΑΤΟΣ', 'ΑΛΛΕΣ ΔΥΝΑΜΕΙΣ',\n",
       "       'ΠΥΡΟΣ. ΟΧΗΜ.', 'ΟΧΗΜ. ΟΤΑ', 'ΒΥΤΙΟ- ΦΟΡΑ', 'ΜΗΧΑΝΗ-ΜΑΤΑ',\n",
       "       'ΕΛΙΚΟ- ΠΤΕΡΑ', 'Α/Φ CL415', 'Α/Φ CL215', 'Α/Φ PZL', 'Α/Φ GRU.'],\n",
       "      dtype='object')"
      ]
     },
     "execution_count": 21,
     "metadata": {},
     "output_type": "execute_result"
    }
   ],
   "source": [
    "# Το 2012 προστίθεται η διεύθυνση `address`\n",
    "\n",
    "data.parse('2012', skiprows=1).columns"
   ]
  },
  {
   "cell_type": "code",
   "execution_count": 22,
   "id": "7fd806d5-49bf-415b-a7b1-2521e35b2723",
   "metadata": {},
   "outputs": [],
   "source": [
    "# Ανανέωση των ονομάτων των στηλών\n",
    "\n",
    "column_names = ['fire_service', 'district', 'start_date', 'start_time', 'end_date', 'end_time',\n",
    "                'forest_department', 'borough', 'location', 'address',\n",
    "                'forest', 'forest_area', 'grove', 'grassland', 'marsh', 'crop_fields', 'crop_residues', 'dumps',\n",
    "                'firemen', 'patrol', 'volunteers', 'military', 'other_groups', 'fire_trucks', 'local_authorities',\n",
    "                'private_trucks', 'other_trucks', 'helicopters', 'canadair_new', 'canadair_old', 'pzl',\n",
    "                'gru']"
   ]
  },
  {
   "cell_type": "code",
   "execution_count": 23,
   "id": "9ec5d224-3674-4a9b-b03c-c934d6176363",
   "metadata": {},
   "outputs": [],
   "source": [
    "# Φόρτωση του 2012\n",
    "\n",
    "sheet = '2012'\n",
    "df = data.parse(sheet, skiprows=1, names=column_names)\n",
    "df_dict[sheet] = df\n",
    "df[\"end_date\"] = df.end_date.apply(fix_year, args=[int(sheet)])\n",
    "df['start'] = pd.to_datetime(df.start_date.dt.strftime(\"%Y-%m-%d\") + ' ' + df.start_time.map(str))\n",
    "df['end'] = pd.to_datetime(df.end_date.dt.strftime(\"%Y-%m-%d\") + ' ' + df.end_time.map(str), errors='coerce')"
   ]
  },
  {
   "cell_type": "markdown",
   "id": "c3dd525d",
   "metadata": {},
   "source": [
    "### Επεξεργασία των αρχείων για τα έτη 2013-2019\n",
    "\n",
    "Εφόσον μέχρι το 2019 δεν έχουμε προσθήκη επιπλέον στηλών, θα αυτοματοποιήσουμε τον τρόπο που διαβάζουμε κάθε αρχείο excel, διορθώνουμε τις ημερ/νίες και το προσθέτουμε στο λεξικό μας."
   ]
  },
  {
   "cell_type": "code",
   "execution_count": 24,
   "id": "0054d488-c463-40f1-b8f8-24901a37eaa7",
   "metadata": {},
   "outputs": [],
   "source": [
    "#| code-summary: Φόρτωση των ετών 2013-2019\n",
    "\n",
    "import glob\n",
    "\n",
    "for sheet in range(2013, 2020):\n",
    "    # εύρεση του αρχείου\n",
    "    file = glob.glob('datasets/Dasikes_Pyrkagies_' + str(sheet) + '*')[0]\n",
    "    \n",
    "    # φόρτωση του αρχείου\n",
    "    df = pd.read_excel(file, skiprows=1, names=column_names)\n",
    "    df_dict[str(sheet)] = df\n",
    "    \n",
    "    # διόρθωση των ημερομηνιών\n",
    "    df[\"end_date\"] = df.end_date.apply(fix_year, args=[sheet])\n",
    "    \n",
    "    # ένωση των ημερ/νιών με τις ώρες\n",
    "    df['start'] = pd.to_datetime(df.start_date.dt.strftime(\"%Y-%m-%d\") + ' ' + df.start_time.map(str))\n",
    "    df['end'] = pd.to_datetime(df.end_date.dt.strftime(\"%Y-%m-%d\") + ' ' + df.end_time.map(str), errors='coerce')"
   ]
  },
  {
   "cell_type": "markdown",
   "metadata": {},
   "source": [
    "### Τα έτη 2020-2021"
   ]
  },
  {
   "cell_type": "code",
   "execution_count": 25,
   "id": "cb7fd438-e9df-4398-9ff8-0d319a52713a",
   "metadata": {},
   "outputs": [
    {
     "data": {
      "text/plain": [
       "Index(['Α/Α ΕΓΓΡΑΦΗΣ', 'Α/Α ENGAGE', 'X-ENGAGE', 'Y-ENGAGE', 'Υπηρεσία',\n",
       "       'Νομός', 'Ημερ/νία Έναρξης', 'Ώρα Έναρξης', 'Ημερ/νία Κατασβεσης',\n",
       "       'Ώρα Κατάσβεσης', 'Δασαρχείο', 'Δήμος', 'Περιοχή', 'Διεύθυνση', 'Δάση',\n",
       "       'Δασική Έκταση', 'Άλση', 'Χορτ/κές Εκτάσεις', 'Καλάμια - Βάλτοι',\n",
       "       'Γεωργικές Εκτάσεις', 'Υπολλείματα Καλλιεργειών', 'Σκουπι-δότοποι',\n",
       "       'ΠΥΡΟΣ. ΣΩΜΑ', 'ΠΕΖΟΠΟΡΑ ΤΜΗΜΑΤΑ', 'ΕΘΕΛΟ-ΝΤΕΣ', 'ΣΤΡΑΤΟΣ',\n",
       "       'ΑΛΛΕΣ ΔΥΝΑΜΕΙΣ', 'ΠΥΡΟΣ. ΟΧΗΜ.', 'ΟΧΗΜ. ΟΤΑ', 'ΒΥΤΙΟ- ΦΟΡΑ',\n",
       "       'ΜΗΧΑΝΗ-ΜΑΤΑ', 'ΕΛΙΚΟ- ΠΤΕΡΑ', 'Α/Φ CL415', 'Α/Φ CL215', 'Α/Φ PZL',\n",
       "       'Α/Φ GRU.'],\n",
       "      dtype='object')"
      ]
     },
     "execution_count": 25,
     "metadata": {},
     "output_type": "execute_result"
    }
   ],
   "source": [
    "# Στήλες του 2020 και 2021\n",
    "\n",
    "pd.read_excel('datasets/Dasikes_Pyrkagies_2020.xls', skiprows=1).columns"
   ]
  },
  {
   "cell_type": "code",
   "execution_count": 26,
   "id": "24f5c34a-f31c-488b-a62a-da2846a028f8",
   "metadata": {},
   "outputs": [],
   "source": [
    "# Το 2020-2021 προστέθηκαν γεωγρ. συντεταγμένες και ευρετήριο το οποίο δεν θα συμπεριληφθεί στο τελικό αρχείο\n",
    "\n",
    "column_names = ['longitude', 'latitude', 'fire_service', 'district', 'start_date', 'start_time', 'end_date', 'end_time',\n",
    "                'forest_department', 'borough', 'location', 'address',\n",
    "                'forest', 'forest_area', 'grove', 'grassland', 'marsh', 'crop_fields', 'crop_residues', 'dumps',\n",
    "                'firemen', 'patrol', 'volunteers', 'military', 'other_groups', 'fire_trucks', 'local_authorities',\n",
    "                'private_trucks', 'other_trucks', 'helicopters', 'canadair_new', 'canadair_old', 'pzl',\n",
    "                'gru']"
   ]
  },
  {
   "cell_type": "code",
   "execution_count": 27,
   "id": "4194e926-d0d0-4a4d-a8f5-ff5333638276",
   "metadata": {},
   "outputs": [],
   "source": [
    "# Φόρτωση των ετών 2020-2021\n",
    "\n",
    "for sheet in [2020, 2021]:\n",
    "    # εύρεση του αρχείου\n",
    "    file = glob.glob('datasets/Dasikes_Pyrkagies_' + str(sheet) + '*')[0]\n",
    "    \n",
    "    # φόρτωση του αρχείου\n",
    "    df = pd.read_excel(file, skiprows=1,\n",
    "                   usecols=list(range(2, 36, 1)), names=column_names)\n",
    "    df_dict[str(sheet)] = df\n",
    "    \n",
    "    # διόρθωση των ημερομηνιών\n",
    "    df[\"end_date\"] = df.end_date.apply(fix_year, args=[sheet])\n",
    "    \n",
    "    # ένωση των ημερ/νιών με τις ώρες\n",
    "    df['start'] = pd.to_datetime(df.start_date.dt.strftime(\"%Y-%m-%d\") + ' ' + df.start_time.map(str))\n",
    "    df['end'] = pd.to_datetime(df.end_date.dt.strftime(\"%Y-%m-%d\") + ' ' + df.end_time.map(str), errors='coerce')"
   ]
  },
  {
   "cell_type": "markdown",
   "id": "e6cb8d12",
   "metadata": {},
   "source": [
    "Μπορούμε πλέον να ενώσουμε όλους τους πίνακες από το λεξικό `df_dict` σε ένα πίνακα με το όνομα `wildfires`."
   ]
  },
  {
   "cell_type": "code",
   "execution_count": 28,
   "id": "cbd9d5a6-fc5a-4878-97cc-cc5df4bba4d5",
   "metadata": {},
   "outputs": [],
   "source": [
    "#| code-summary: Συνδιασμός όλων των αρχείων σε ένα πίνακα που ονομάζεται `wildfires`\n",
    "wildfires = pd.concat(df_dict.values())"
   ]
  },
  {
   "cell_type": "markdown",
   "id": "ff64e62b",
   "metadata": {},
   "source": [
    "Θέτουμε όποιες ημερ/νίες κατάσβεσης δεν διορθώθηκαν ως κενή τιμή, ελέγχοντας ποιες ημερ/νίες κατάσβεσης προηγούνται των ημερ/νιών έναρξης."
   ]
  },
  {
   "cell_type": "code",
   "execution_count": 29,
   "id": "fc8500c7-d76d-4dd2-988e-f9ebb8575a6f",
   "metadata": {},
   "outputs": [],
   "source": [
    "#| code-summary: Ορίζουμε ως μη διαθέσιμες όσες ημερ/νίες κατάσβεσης προηγούνται των αντίστοιχων ημερ/νιών έναρξης του συμβάντος\n",
    "wildfires.loc[(wildfires.start > wildfires.end), 'end'] = pd.NaT"
   ]
  },
  {
   "cell_type": "markdown",
   "id": "d0c5e5ae",
   "metadata": {},
   "source": [
    "Παρακάτω είναι το τελικό μας αρχείο."
   ]
  },
  {
   "cell_type": "code",
   "execution_count": 30,
   "id": "b8b5c1c3-79b7-41cd-9db7-ccee88885164",
   "metadata": {},
   "outputs": [
    {
     "name": "stdout",
     "output_type": "stream",
     "text": [
      "<class 'pandas.core.frame.DataFrame'>\n",
      "Int64Index: 223260 entries, 0 to 9513\n",
      "Data columns (total 36 columns):\n",
      " #   Column             Non-Null Count   Dtype         \n",
      "---  ------             --------------   -----         \n",
      " 0   fire_service       223260 non-null  object        \n",
      " 1   forest_department  148424 non-null  object        \n",
      " 2   location           154541 non-null  object        \n",
      " 3   district           223252 non-null  object        \n",
      " 4   start_date         223260 non-null  datetime64[ns]\n",
      " 5   start_time         223260 non-null  object        \n",
      " 6   end_date           203493 non-null  datetime64[ns]\n",
      " 7   end_time           203603 non-null  object        \n",
      " 8   forest             223259 non-null  float64       \n",
      " 9   forest_area        223260 non-null  float64       \n",
      " 10  grove              223260 non-null  float64       \n",
      " 11  grassland          223260 non-null  float64       \n",
      " 12  marsh              223260 non-null  float64       \n",
      " 13  crop_fields        223258 non-null  float64       \n",
      " 14  crop_residues      223260 non-null  float64       \n",
      " 15  dumps              223258 non-null  float64       \n",
      " 16  start              223260 non-null  datetime64[ns]\n",
      " 17  end                201425 non-null  datetime64[ns]\n",
      " 18  borough            123034 non-null  object        \n",
      " 19  firemen            106259 non-null  float64       \n",
      " 20  patrol             106305 non-null  float64       \n",
      " 21  volunteers         106339 non-null  float64       \n",
      " 22  military           106341 non-null  float64       \n",
      " 23  other_groups       106335 non-null  float64       \n",
      " 24  fire_trucks        106340 non-null  float64       \n",
      " 25  local_authorities  106341 non-null  float64       \n",
      " 26  private_trucks     106338 non-null  float64       \n",
      " 27  other_trucks       106340 non-null  float64       \n",
      " 28  helicopters        106339 non-null  float64       \n",
      " 29  canadair_new       106341 non-null  float64       \n",
      " 30  canadair_old       106340 non-null  float64       \n",
      " 31  pzl                106341 non-null  float64       \n",
      " 32  gru                106341 non-null  float64       \n",
      " 33  address            95057 non-null   object        \n",
      " 34  longitude          20309 non-null   float64       \n",
      " 35  latitude           20309 non-null   float64       \n",
      "dtypes: datetime64[ns](4), float64(24), object(8)\n",
      "memory usage: 63.0+ MB\n",
      "None\n"
     ]
    }
   ],
   "source": [
    "#| code-summary: Αυτό είναι το τελικό μας αρχείο προς παρουσίαση\n",
    "print(wildfires.info())"
   ]
  },
  {
   "cell_type": "code",
   "execution_count": 31,
   "id": "7bf5fcee-f58f-480f-94ed-d2dc3d55c287",
   "metadata": {},
   "outputs": [
    {
     "data": {
      "text/html": [
       "<div>\n",
       "<style scoped>\n",
       "    .dataframe tbody tr th:only-of-type {\n",
       "        vertical-align: middle;\n",
       "    }\n",
       "\n",
       "    .dataframe tbody tr th {\n",
       "        vertical-align: top;\n",
       "    }\n",
       "\n",
       "    .dataframe thead th {\n",
       "        text-align: right;\n",
       "    }\n",
       "</style>\n",
       "<table border=\"1\" class=\"dataframe\">\n",
       "  <thead>\n",
       "    <tr style=\"text-align: right;\">\n",
       "      <th></th>\n",
       "      <th>fire_service</th>\n",
       "      <th>forest_department</th>\n",
       "      <th>location</th>\n",
       "      <th>district</th>\n",
       "      <th>start_date</th>\n",
       "      <th>start_time</th>\n",
       "      <th>end_date</th>\n",
       "      <th>end_time</th>\n",
       "      <th>forest</th>\n",
       "      <th>forest_area</th>\n",
       "      <th>...</th>\n",
       "      <th>private_trucks</th>\n",
       "      <th>other_trucks</th>\n",
       "      <th>helicopters</th>\n",
       "      <th>canadair_new</th>\n",
       "      <th>canadair_old</th>\n",
       "      <th>pzl</th>\n",
       "      <th>gru</th>\n",
       "      <th>address</th>\n",
       "      <th>longitude</th>\n",
       "      <th>latitude</th>\n",
       "    </tr>\n",
       "  </thead>\n",
       "  <tbody>\n",
       "    <tr>\n",
       "      <th>11694</th>\n",
       "      <td>Π.Υ. ΑΡΓΟΥΣ</td>\n",
       "      <td>ΑΡΓΟΛΙΔΑΣ</td>\n",
       "      <td>ΑΓ.ΝΙΚΟΛΑΟΣ</td>\n",
       "      <td>ΑΡΓΟΛΙΔΟΣ</td>\n",
       "      <td>2001-10-03</td>\n",
       "      <td>16:19:00</td>\n",
       "      <td>2001-10-03</td>\n",
       "      <td>16:50:00</td>\n",
       "      <td>0.0</td>\n",
       "      <td>0.0</td>\n",
       "      <td>...</td>\n",
       "      <td>NaN</td>\n",
       "      <td>NaN</td>\n",
       "      <td>NaN</td>\n",
       "      <td>NaN</td>\n",
       "      <td>NaN</td>\n",
       "      <td>NaN</td>\n",
       "      <td>NaN</td>\n",
       "      <td>NaN</td>\n",
       "      <td>NaN</td>\n",
       "      <td>NaN</td>\n",
       "    </tr>\n",
       "    <tr>\n",
       "      <th>8088</th>\n",
       "      <td>Π.Υ. ΛΑΜΙΑΣ</td>\n",
       "      <td>NaN</td>\n",
       "      <td>ΛΑΜΙΑ</td>\n",
       "      <td>ΦΘΙΩΤΙΔΑΣ</td>\n",
       "      <td>2004-10-11</td>\n",
       "      <td>12:19:00</td>\n",
       "      <td>2004-10-11</td>\n",
       "      <td>13:50:00</td>\n",
       "      <td>0.0</td>\n",
       "      <td>0.1</td>\n",
       "      <td>...</td>\n",
       "      <td>NaN</td>\n",
       "      <td>NaN</td>\n",
       "      <td>NaN</td>\n",
       "      <td>NaN</td>\n",
       "      <td>NaN</td>\n",
       "      <td>NaN</td>\n",
       "      <td>NaN</td>\n",
       "      <td>NaN</td>\n",
       "      <td>NaN</td>\n",
       "      <td>NaN</td>\n",
       "    </tr>\n",
       "    <tr>\n",
       "      <th>1009</th>\n",
       "      <td>Π.Υ. ΟΡΕΣΤΙΑΔΑΣ</td>\n",
       "      <td>ΔΙΔ/ΧΟΥ</td>\n",
       "      <td>ΒΑΛΤΟΣ</td>\n",
       "      <td>ΕΒΡΟΥ</td>\n",
       "      <td>2019-08-25</td>\n",
       "      <td>18:17</td>\n",
       "      <td>2019-08-25</td>\n",
       "      <td>18:28</td>\n",
       "      <td>0.0</td>\n",
       "      <td>0.0</td>\n",
       "      <td>...</td>\n",
       "      <td>0.0</td>\n",
       "      <td>0.0</td>\n",
       "      <td>0.0</td>\n",
       "      <td>0.0</td>\n",
       "      <td>0.0</td>\n",
       "      <td>0.0</td>\n",
       "      <td>0.0</td>\n",
       "      <td>ΑΓΡΟΤΙΚΗ ΠΕΡΙΟΧΗ ΒΑΛΤΟΥ</td>\n",
       "      <td>NaN</td>\n",
       "      <td>NaN</td>\n",
       "    </tr>\n",
       "    <tr>\n",
       "      <th>276</th>\n",
       "      <td>Π.Υ. ΚΡΩΠΙΑΣ</td>\n",
       "      <td>NaN</td>\n",
       "      <td>ΚΟΡΟΠΙΟΝ</td>\n",
       "      <td>ΑΤΤΙΚΗΣ</td>\n",
       "      <td>2003-07-04</td>\n",
       "      <td>10:20:00</td>\n",
       "      <td>2003-07-04</td>\n",
       "      <td>11:15:00</td>\n",
       "      <td>0.0</td>\n",
       "      <td>0.0</td>\n",
       "      <td>...</td>\n",
       "      <td>NaN</td>\n",
       "      <td>NaN</td>\n",
       "      <td>NaN</td>\n",
       "      <td>NaN</td>\n",
       "      <td>NaN</td>\n",
       "      <td>NaN</td>\n",
       "      <td>NaN</td>\n",
       "      <td>NaN</td>\n",
       "      <td>NaN</td>\n",
       "      <td>NaN</td>\n",
       "    </tr>\n",
       "    <tr>\n",
       "      <th>7781</th>\n",
       "      <td>ΕΘ.Π.Σ. Β ΤΑΞΗΣ ΠΑΡΑΒΟΛΑΣ</td>\n",
       "      <td>NaN</td>\n",
       "      <td>ΑΓΡΙΝΙΟ</td>\n",
       "      <td>ΑΙΤΩΛΟΑΚΑΡΝΑΝΙΑΣ</td>\n",
       "      <td>2020-08-27</td>\n",
       "      <td>12:35</td>\n",
       "      <td>2020-08-27</td>\n",
       "      <td>17:25</td>\n",
       "      <td>0.0</td>\n",
       "      <td>0.0</td>\n",
       "      <td>...</td>\n",
       "      <td>0.0</td>\n",
       "      <td>0.0</td>\n",
       "      <td>0.0</td>\n",
       "      <td>0.0</td>\n",
       "      <td>0.0</td>\n",
       "      <td>0.0</td>\n",
       "      <td>0.0</td>\n",
       "      <td>ΠΑΝΑΙΤΩΛΙΟ(ΑΜΠΑΡΙΑ)</td>\n",
       "      <td>21.4607</td>\n",
       "      <td>38.578267</td>\n",
       "    </tr>\n",
       "  </tbody>\n",
       "</table>\n",
       "<p>5 rows × 36 columns</p>\n",
       "</div>"
      ],
      "text/plain": [
       "                    fire_service forest_department     location  \\\n",
       "11694                Π.Υ. ΑΡΓΟΥΣ         ΑΡΓΟΛΙΔΑΣ  ΑΓ.ΝΙΚΟΛΑΟΣ   \n",
       "8088                 Π.Υ. ΛΑΜΙΑΣ               NaN        ΛΑΜΙΑ   \n",
       "1009             Π.Υ. ΟΡΕΣΤΙΑΔΑΣ           ΔΙΔ/ΧΟΥ       ΒΑΛΤΟΣ   \n",
       "276                 Π.Υ. ΚΡΩΠΙΑΣ               NaN     ΚΟΡΟΠΙΟΝ   \n",
       "7781   ΕΘ.Π.Σ. Β ΤΑΞΗΣ ΠΑΡΑΒΟΛΑΣ               NaN      ΑΓΡΙΝΙΟ   \n",
       "\n",
       "               district start_date start_time   end_date  end_time  forest  \\\n",
       "11694         ΑΡΓΟΛΙΔΟΣ 2001-10-03   16:19:00 2001-10-03  16:50:00     0.0   \n",
       "8088          ΦΘΙΩΤΙΔΑΣ 2004-10-11   12:19:00 2004-10-11  13:50:00     0.0   \n",
       "1009              ΕΒΡΟΥ 2019-08-25      18:17 2019-08-25     18:28     0.0   \n",
       "276             ΑΤΤΙΚΗΣ 2003-07-04   10:20:00 2003-07-04  11:15:00     0.0   \n",
       "7781   ΑΙΤΩΛΟΑΚΑΡΝΑΝΙΑΣ 2020-08-27      12:35 2020-08-27     17:25     0.0   \n",
       "\n",
       "       forest_area  ...  private_trucks  other_trucks  helicopters  \\\n",
       "11694          0.0  ...             NaN           NaN          NaN   \n",
       "8088           0.1  ...             NaN           NaN          NaN   \n",
       "1009           0.0  ...             0.0           0.0          0.0   \n",
       "276            0.0  ...             NaN           NaN          NaN   \n",
       "7781           0.0  ...             0.0           0.0          0.0   \n",
       "\n",
       "       canadair_new  canadair_old  pzl  gru                  address  \\\n",
       "11694           NaN           NaN  NaN  NaN                      NaN   \n",
       "8088            NaN           NaN  NaN  NaN                      NaN   \n",
       "1009            0.0           0.0  0.0  0.0  ΑΓΡΟΤΙΚΗ ΠΕΡΙΟΧΗ ΒΑΛΤΟΥ   \n",
       "276             NaN           NaN  NaN  NaN                      NaN   \n",
       "7781            0.0           0.0  0.0  0.0      ΠΑΝΑΙΤΩΛΙΟ(ΑΜΠΑΡΙΑ)   \n",
       "\n",
       "      longitude   latitude  \n",
       "11694       NaN        NaN  \n",
       "8088        NaN        NaN  \n",
       "1009        NaN        NaN  \n",
       "276         NaN        NaN  \n",
       "7781    21.4607  38.578267  \n",
       "\n",
       "[5 rows x 36 columns]"
      ]
     },
     "execution_count": 31,
     "metadata": {},
     "output_type": "execute_result"
    }
   ],
   "source": [
    "#| code-summary: Τυχαίο δείγμα 5 καταγραφών\n",
    "#| column: page\n",
    "wildfires.sample(5)"
   ]
  },
  {
   "cell_type": "code",
   "execution_count": 33,
   "metadata": {},
   "outputs": [],
   "source": [
    "# Αποθήκευση του πίνακα στο αρχείο wildfires.csv\n",
    "wildfires.to_csv('datasets/wildfires.csv', index=False)"
   ]
  }
 ],
 "metadata": {
  "kernelspec": {
   "display_name": "Python 3.9.13 ('data_science_env')",
   "language": "python",
   "name": "python3"
  },
  "language_info": {
   "codemirror_mode": {
    "name": "ipython",
    "version": 3
   },
   "file_extension": ".py",
   "mimetype": "text/x-python",
   "name": "python",
   "nbconvert_exporter": "python",
   "pygments_lexer": "ipython3",
   "version": "3.9.13"
  },
  "orig_nbformat": 4,
  "vscode": {
   "interpreter": {
    "hash": "8b9cc28cd9196a85f722e9a453e0156a08b6721fdc34caf36692f66135ae2375"
   }
  }
 },
 "nbformat": 4,
 "nbformat_minor": 2
}
