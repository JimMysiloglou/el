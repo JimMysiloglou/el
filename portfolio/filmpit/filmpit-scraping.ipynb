{
 "cells": [
  {
   "cell_type": "raw",
   "id": "2bbbb6e2",
   "metadata": {},
   "source": [
    "---\n",
    "title: \"Οι ταινίες του Film Pit σε γραφήματα\"\n",
    "description: 'Συγκέντρωση πληροφοριών για τις ταινίες του podcast \"The Film Pit\" με την γλώσσα Python.'\n",
    "date: 2022-10-10\n",
    "lang: el\n",
    "code-fold: false\n",
    "image: filmpit.png\n",
    "---"
   ]
  },
  {
   "cell_type": "markdown",
   "id": "47a71aea",
   "metadata": {},
   "source": [
    "To [Film Pit](https://thefilmpit.com) είναι ένα podcast το οποίο διανύει τον τέταρτο χρόνο προβολής του. Ασχολείται με την κριτική ταινιών μικρής δημοφιλίας και προϋπολογισμού κυρίως από την δεκαετία του 80 και 90. Στο διάστημα αυτό οι 3 δημιουργοί του έχουν παρουσιάσει και σχολιάσει 114 ταινίες. Όντας ακροατής, θέλησα να βρω περισσότερες πληροφορίες για τις ταινίες που επέλεξαν.\n",
    "\n",
    "Χρησιμοποίησα βιβλιοθήκες απο την γλώσσα Python για να συγκεντρώσω πληροφορίες από τις ιστοσελίδες Internet Movie Database (IMDB) και The Movie Database (TMDB). Οι βιβλιοθήκες που χρησιμοποιήθηκαν είναι οι `requests`, `BeautifulSoup`, `pandas` και `numpy`. Σε [αυτή την σελίδα](helper.ipynb) θα βρείτε λεπτομερείς οδηγίες για την συλλογή των πληροφοριών.\n",
    "\n",
    "Τα δεδομένα παρουσιάζονται υπό μορφή γραφημάτων με την βοήθεια του προγράμματος Tableau και αναρτήθηκαν στην πλατφόρμα [Tableau public.](https://public.tableau.com/views/Filmpit/FilmpitMovies?:language=en-US&:display_count=n&:origin=viz_share_link) Τα γραφήματα που δημιουργούνται μπορούν να συνδιαστούν σε dashboards και να παρουσιαστούν υπό την μορφή stories, αναρτημένα στην υπηρεσία Τableau Public. Όπως βλέπετε παρακάτω το αποτέλεσμα μπορεί να ενσωματωθεί σε οποιαδήποτε ιστοσελίδα επιθυμείτε."
   ]
  },
  {
   "cell_type": "code",
   "execution_count": 21,
   "id": "3fe0cf78",
   "metadata": {},
   "outputs": [
    {
     "data": {
      "text/html": [
       "\n",
       "<div class='tableauPlaceholder' id='viz1666283627204' style='position: relative'><noscript><a href='#'><img alt='Filmpit Movies ' src='https:&#47;&#47;public.tableau.com&#47;static&#47;images&#47;Fi&#47;Filmpit&#47;FilmpitMovies&#47;1_rss.png' style='border: none' /></a></noscript><object class='tableauViz'  style='display:none;'><param name='host_url' value='https%3A%2F%2Fpublic.tableau.com%2F' /> <param name='embed_code_version' value='3' /> <param name='site_root' value='' /><param name='name' value='Filmpit&#47;FilmpitMovies' /><param name='tabs' value='no' /><param name='toolbar' value='yes' /><param name='static_image' value='https:&#47;&#47;public.tableau.com&#47;static&#47;images&#47;Fi&#47;Filmpit&#47;FilmpitMovies&#47;1.png' /> <param name='animate_transition' value='yes' /><param name='display_static_image' value='yes' /><param name='display_spinner' value='yes' /><param name='display_overlay' value='yes' /><param name='display_count' value='yes' /><param name='language' value='en-US' /></object></div>                <script type='text/javascript'>                    var divElement = document.getElementById('viz1666283627204');                    var vizElement = divElement.getElementsByTagName('object')[0];                    vizElement.style.width='1016px';vizElement.style.height='991px';                    var scriptElement = document.createElement('script');                    scriptElement.src = 'https://public.tableau.com/javascripts/api/viz_v1.js';                    vizElement.parentNode.insertBefore(scriptElement, vizElement);                </script>\n"
      ],
      "text/plain": [
       "<IPython.core.display.HTML object>"
      ]
     },
     "metadata": {},
     "output_type": "display_data"
    }
   ],
   "source": [
    "#| code-fold: true\n",
    "#| column: page\n",
    "#| echo: false\n",
    "\n",
    "%%html\n",
    "\n",
    "<div class='tableauPlaceholder' id='viz1666283627204' style='position: relative'><noscript><a href='#'><img alt='Filmpit Movies ' src='https:&#47;&#47;public.tableau.com&#47;static&#47;images&#47;Fi&#47;Filmpit&#47;FilmpitMovies&#47;1_rss.png' style='border: none' /></a></noscript><object class='tableauViz'  style='display:none;'><param name='host_url' value='https%3A%2F%2Fpublic.tableau.com%2F' /> <param name='embed_code_version' value='3' /> <param name='site_root' value='' /><param name='name' value='Filmpit&#47;FilmpitMovies' /><param name='tabs' value='no' /><param name='toolbar' value='yes' /><param name='static_image' value='https:&#47;&#47;public.tableau.com&#47;static&#47;images&#47;Fi&#47;Filmpit&#47;FilmpitMovies&#47;1.png' /> <param name='animate_transition' value='yes' /><param name='display_static_image' value='yes' /><param name='display_spinner' value='yes' /><param name='display_overlay' value='yes' /><param name='display_count' value='yes' /><param name='language' value='en-US' /></object></div>                <script type='text/javascript'>                    var divElement = document.getElementById('viz1666283627204');                    var vizElement = divElement.getElementsByTagName('object')[0];                    vizElement.style.width='1016px';vizElement.style.height='991px';                    var scriptElement = document.createElement('script');                    scriptElement.src = 'https://public.tableau.com/javascripts/api/viz_v1.js';                    vizElement.parentNode.insertBefore(scriptElement, vizElement);                </script>"
   ]
  }
 ],
 "metadata": {
  "hide_input": false,
  "kernelspec": {
   "display_name": "Python 3.9.13 ('data_science_env')",
   "language": "python",
   "name": "python3"
  },
  "language_info": {
   "codemirror_mode": {
    "name": "ipython",
    "version": 3
   },
   "file_extension": ".py",
   "mimetype": "text/x-python",
   "name": "python",
   "nbconvert_exporter": "python",
   "pygments_lexer": "ipython3",
   "version": "3.9.13"
  },
  "toc": {
   "base_numbering": "1",
   "nav_menu": {},
   "number_sections": false,
   "sideBar": true,
   "skip_h1_title": false,
   "title_cell": "Table of Contents",
   "title_sidebar": "Contents",
   "toc_cell": false,
   "toc_position": {},
   "toc_section_display": true,
   "toc_window_display": false
  },
  "vscode": {
   "interpreter": {
    "hash": "8b9cc28cd9196a85f722e9a453e0156a08b6721fdc34caf36692f66135ae2375"
   }
  }
 },
 "nbformat": 4,
 "nbformat_minor": 5
}
